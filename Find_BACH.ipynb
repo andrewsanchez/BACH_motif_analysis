{
 "cells": [
  {
   "cell_type": "markdown",
   "metadata": {},
   "source": [
    "**The BACH motif**"
   ]
  },
  {
   "cell_type": "markdown",
   "metadata": {},
   "source": [
    "On the motif:\n",
    "\n",
    ">One of the most frequently occurring examples of a musical cryptogram, the motif has been used by countless composers, especially after the Bach Revival in the first half of the 19th century.\n",
    "\n",
    "\n",
    "Use by other composers:\n",
    "\n",
    ">In a comprehensive study published in the catalogue for the 1985 exhibition \"300 Jahre Johann Sebastian Bach\" (\"300 years of Johann Sebastian Bach\") in Stuttgart, Germany, Ulrich Prinz lists 409 works by 330 composers from the 17th to the 20th century using the BACH motif\n",
    "\n",
    "\n",
    "https://en.wikipedia.org/wiki/BACH_motif"
   ]
  },
  {
   "cell_type": "code",
   "execution_count": 1,
   "metadata": {},
   "outputs": [],
   "source": [
    "from music21 import *\n",
    "\n",
    "bach_motif = ['B-', 'A', 'C', 'B']\n",
    "bwv309 = corpus.parse('bach/bwv309')"
   ]
  },
  {
   "cell_type": "markdown",
   "metadata": {},
   "source": [
    "Check if `obj` is a note.Note object.\n",
    "\n",
    "If so, check that note.Note.name == note_name\n",
    "\n",
    "Finally, return note.Note.name if both statements are True"
   ]
  },
  {
   "cell_type": "code",
   "execution_count": 2,
   "metadata": {},
   "outputs": [],
   "source": [
    "def check_note(obj, note_name):\n",
    "    \n",
    "    if type(obj) != note.Note:\n",
    "        return False\n",
    "    if obj.name != note_name:\n",
    "        return False\n",
    "    return obj.name"
   ]
  },
  {
   "cell_type": "markdown",
   "metadata": {},
   "source": [
    "Get successive notes from `stream_object`, inclusive of starting point `index`."
   ]
  },
  {
   "cell_type": "code",
   "execution_count": 3,
   "metadata": {},
   "outputs": [],
   "source": [
    "def get_successive_notes(stream_object, index, endpoint):\n",
    "    \n",
    "    successive_notes = stream_object[index-1:index+endpoint]\n",
    "    \n",
    "    return [n.name for n in successive_notes]"
   ]
  },
  {
   "cell_type": "markdown",
   "metadata": {},
   "source": [
    "It appears that this method is limited to finding only those motifs that don't cross a barline."
   ]
  },
  {
   "cell_type": "code",
   "execution_count": 4,
   "metadata": {},
   "outputs": [],
   "source": [
    "def find_BACH(score):\n",
    "    score_parts = score.getElementsByClass('Part')\n",
    "    for p in score_parts:\n",
    "        part_measures = p.getElementsByClass('Measure')\n",
    "        for m in part_measures:\n",
    "            measure_notes = m.getElementsByClass('Note')\n",
    "            for n in measure_notes:\n",
    "                if check_note(n, 'B-'):\n",
    "                    ix = measure_notes.index\n",
    "                    successiveNotes = get_successive_notes(measure_notes, ix, 4)\n",
    "                    if successiveNotes == bach_motif:\n",
    "                        return score.metadata.title, m, successiveNotes"
   ]
  },
  {
   "cell_type": "code",
   "execution_count": 5,
   "metadata": {},
   "outputs": [],
   "source": [
    "def find_motif_in_chorales():\n",
    "    motifs = []\n",
    "    for chorale in corpus.chorales.Iterator():\n",
    "        motif = find_BACH(chorale)\n",
    "        if motif:\n",
    "            motifs.append(motif)\n",
    "            \n",
    "    return motifs"
   ]
  },
  {
   "cell_type": "code",
   "execution_count": 6,
   "metadata": {},
   "outputs": [],
   "source": [
    "motifs = find_motif_in_chorales()"
   ]
  },
  {
   "cell_type": "code",
   "execution_count": 7,
   "metadata": {},
   "outputs": [
    {
     "name": "stdout",
     "output_type": "stream",
     "text": [
      "Found 2 BACH motifs in 406 chorales.\n",
      "\n",
      "\n",
      "The BACH motif can be found in measure 13 of Es stehn vor Gottes Throne.\n",
      "The BACH motif can be found in measure 13 of Nun lob', mein Seel, den Herren.\n"
     ]
    }
   ],
   "source": [
    "print('Found {} BACH motifs in 406 chorales.'.format(len(motifs)))\n",
    "print('\\n')\n",
    "\n",
    "for motif in motifs:\n",
    "    number = motif[1].measureNumber\n",
    "    print('The BACH motif can be found in measure {} of {}.'.format(number, motif[0]))"
   ]
  },
  {
   "cell_type": "code",
   "execution_count": 8,
   "metadata": {},
   "outputs": [
    {
     "name": "stdout",
     "output_type": "stream",
     "text": [
      "Es stehn vor Gottes Throne\n"
     ]
    },
    {
     "data": {
      "image/png": "[encoded data removed]",
      "text/plain": [
       "<IPython.core.display.Image object>"
      ]
     },
     "metadata": {
      "image/png": {
       "height": 59,
       "width": 237
      }
     },
     "output_type": "display_data"
    }
   ],
   "source": [
    "print(motifs[0][0])\n",
    "motifs[0][1].show()"
   ]
  },
  {
   "cell_type": "code",
   "execution_count": 9,
   "metadata": {},
   "outputs": [
    {
     "data": {
      "text/html": [
       "\n",
       "                <div id='midiPlayerDiv385168'></div>\n",
       "                <link rel=\"stylesheet\" href=\"//cuthbertLab.github.io/music21j/css/m21.css\"\n",
       "                    type=\"text/css\" />\n",
       "                <script>\n",
       "                require.config({\n",
       "                    paths: {'music21': '//cuthbertLab.github.io/music21j/src/music21'}\n",
       "                });\n",
       "                require(['music21'], function() {\n",
       "                               mp = new music21.miditools.MidiPlayer();\n",
       "                               mp.addPlayer('#midiPlayerDiv385168');\n",
       "                               mp.base64Load('data:audio/midi;base64,TVRoZAAAAAYAAQABBABNVHJrAAAAMQD/AwAA4ABAAJA6WogAgDoAAJA5WoQAgDkAAJA8WoQAgDwAAJA7WogAgDsAiAD/LwA=');\n",
       "                        });\n",
       "                </script>"
      ],
      "text/plain": [
       "<IPython.core.display.HTML object>"
      ]
     },
     "metadata": {},
     "output_type": "display_data"
    }
   ],
   "source": [
    "motifs[0][1].show('midi')"
   ]
  },
  {
   "cell_type": "code",
   "execution_count": 10,
   "metadata": {
    "scrolled": false
   },
   "outputs": [
    {
     "name": "stdout",
     "output_type": "stream",
     "text": [
      "Nun lob', mein Seel, den Herren\n"
     ]
    },
    {
     "data": {
      "image/png": "[encoded data removed]",
      "text/plain": [
       "<IPython.core.display.Image object>"
      ]
     },
     "metadata": {
      "image/png": {
       "height": 79,
       "width": 328
      }
     },
     "output_type": "display_data"
    }
   ],
   "source": [
    "print(motifs[1][0])\n",
    "motifs[1][1].show()"
   ]
  },
  {
   "cell_type": "code",
   "execution_count": 11,
   "metadata": {
    "scrolled": true
   },
   "outputs": [
    {
     "data": {
      "text/html": [
       "\n",
       "                <div id='midiPlayerDiv385329'></div>\n",
       "                <link rel=\"stylesheet\" href=\"//cuthbertLab.github.io/music21j/css/m21.css\"\n",
       "                    type=\"text/css\" />\n",
       "                <script>\n",
       "                require.config({\n",
       "                    paths: {'music21': '//cuthbertLab.github.io/music21j/src/music21'}\n",
       "                });\n",
       "                require(['music21'], function() {\n",
       "                               mp = new music21.miditools.MidiPlayer();\n",
       "                               mp.addPlayer('#midiPlayerDiv385329');\n",
       "                               mp.base64Load('data:audio/midi;base64,TVRoZAAAAAYAAQABBABNVHJrAAAATAD/AwAA4ABAAJBAWoQAgEAAAJA+WoQAgD4AAJA8WoQAgDwAAJA6WoQAgDoAAJA5WogAgDkAAJA8WoQAgDwAAJA7WoQAgDsAiAD/LwA=');\n",
       "                        });\n",
       "                </script>"
      ],
      "text/plain": [
       "<IPython.core.display.HTML object>"
      ]
     },
     "metadata": {},
     "output_type": "display_data"
    }
   ],
   "source": [
    "motifs[1][1].show('midi')"
   ]
  },
  {
   "cell_type": "markdown",
   "metadata": {},
   "source": [
    "Here is an attempt to rewrite the function to find motifs across barlines by utilizing `.flat`\n",
    "\n",
    "Instead, it finds nothing :("
   ]
  },
  {
   "cell_type": "code",
   "execution_count": 12,
   "metadata": {},
   "outputs": [],
   "source": [
    "def find_all_motifs(chorale):\n",
    "    for part in chorale.parts:\n",
    "        for n in part.flat.notes:\n",
    "            if check_note(n, 'B-'):\n",
    "#                 ix = part.flat.index(n)\n",
    "                ix = part.flat.notes.index\n",
    "                try:\n",
    "                    successiveNotes = get_successive_notes(part.flat.notes, ix, 4)\n",
    "                    if successiveNotes == bach_motif:\n",
    "                        print(successiveNotes)\n",
    "                except AttributeError:\n",
    "                    continue\n",
    "                    \n",
    "\n",
    "find_all_motifs(bwv309)"
   ]
  }
 ],
 "metadata": {
  "kernelspec": {
   "display_name": "Python 3",
   "language": "python",
   "name": "python3"
  },
  "language_info": {
   "codemirror_mode": {
    "name": "ipython",
    "version": 3
   },
   "file_extension": ".py",
   "mimetype": "text/x-python",
   "name": "python",
   "nbconvert_exporter": "python",
   "pygments_lexer": "ipython3",
   "version": "3.7.0"
  }
 },
 "nbformat": 4,
 "nbformat_minor": 2
}
